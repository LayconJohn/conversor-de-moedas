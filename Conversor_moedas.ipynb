{
  "nbformat": 4,
  "nbformat_minor": 0,
  "metadata": {
    "colab": {
      "name": "Conversor-moedas",
      "provenance": [],
      "collapsed_sections": []
    },
    "kernelspec": {
      "name": "python3",
      "display_name": "Python 3"
    },
    "language_info": {
      "name": "python"
    }
  },
  "cells": [
    {
      "cell_type": "code",
      "execution_count": null,
      "metadata": {
        "id": "Xa9HXp8ASgpQ",
        "colab": {
          "base_uri": "https://localhost:8080/"
        },
        "outputId": "1e91d86e-6c9c-4aac-e4e8-763ad9246080"
      },
      "outputs": [
        {
          "output_type": "stream",
          "name": "stdout",
          "text": [
            "200\n",
            "5.7264\n",
            "278.711\n",
            "====Conversor de moedas====\n",
            "Digite um valor: 100\n",
            "=-=-=-=-=-=-=-=-=-=-\n",
            "O que deseja fazer?\n",
            "<1> - Real -> Dólar\n",
            "<2> - Dólar -> Real:\n",
            "<3> - Real -> Bitcoin/ Satoshi\n",
            "<4> - Bitcoin -> Real >> 3\n",
            "~~~~~~~~~~~~~~~~~~~~~~~~~~~~~~\n",
            "R$ 100 = BTC 0.00035879 ou 35879 Satoshi\n",
            "~~~~~~~~~~~~~~~~~~~~~~~~~~~~~~\n",
            "O que deseja fazer?\n",
            "<1> - Real -> Dólar\n",
            "<2> - Dólar -> Real:\n",
            "<3> - Real -> Bitcoin/ Satoshi\n",
            "<4> - Bitcoin -> Real >> 8\n",
            "FIM\n"
          ]
        }
      ],
      "source": [
        "#!pip install requests\n",
        "from requests import *\n",
        "import json\n",
        "\n",
        "cotacoes = get(\" https://economia.awesomeapi.com.br/last/USD-BRL,BTC-BRL\") #método get para buscar a API das cotações (awesomeapi), buscar dólar e btc\n",
        "print(cotacoes.status_code) #Se tiver 200 tá ok\n",
        "cotacoes = cotacoes.json() #Transformar o arquivo json para python (dicionário)\n",
        "#print(len(response.content)) >> Ver o tamanho do conteúdo usando o método content\n",
        " \n",
        "cotacao_dolar = float(cotacoes['USDBRL']['bid'])\n",
        "cotacao_btc = float(cotacoes['BTCBRL']['bid']) * 1000\n",
        "\n",
        "print(cotacao_dolar)\n",
        "print(cotacao_btc)\n",
        "print('====Conversor de moedas====')\n",
        "valor = int(input('Digite um valor: '))\n",
        "print('=-'*10)\n",
        "\n",
        "#Converter real p/ dólar\n",
        "def converter_real_p_dolar(valor):\n",
        "  unidade = cotacao_dolar\n",
        "  dolar = valor/unidade\n",
        "  return print('R$', valor, '= US$', dolar)\n",
        "\n",
        "#converter dólar p/ real\n",
        "def converter_dolar_p_real(valor):\n",
        "  unidade = cotacao_dolar \n",
        "  real = unidade * valor\n",
        "  return print('US$', valor, '= R$', real)\n",
        "\n",
        "#Converter real p/ btc\n",
        "def converter_real_p_btc(valor):\n",
        "  unidade = cotacao_btc \n",
        "  btc = valor / unidade\n",
        "  nakamoto = btc*100000000 #futuramente explorar conversão real e stoshi(vice versa)\n",
        "  return print(f'R$ {valor} = BTC {btc:.8f} ou {nakamoto:.0f} Satoshi')\n",
        "\n",
        "#converter btc p/ real\n",
        "def converter_btc_p_real(valor):\n",
        "  unidade = cotacao_btc * 1000\n",
        "  real = unidade*valor\n",
        "  return print('BTC', valor, '= R$', real)\n",
        "\n",
        "#Resposta\n",
        "def resp():\n",
        "  return int(input('O que deseja fazer?'\n",
        "'\\n<1> - Real -> Dólar'\n",
        "'\\n<2> - Dólar -> Real:' \n",
        "'\\n<3> - Real -> Bitcoin/ Satoshi'\n",
        "'\\n<4> - Bitcoin -> Real >> '))\n",
        "\n",
        "#Variáveis\n",
        "opcao = resp()\n",
        "\n",
        "while 1 <= opcao <= 4:\n",
        "  if opcao == 1:\n",
        "    print('~'*30)\n",
        "    converter_real_p_dolar(valor)\n",
        "    print('~'*30)\n",
        "    opcao = resp()\n",
        "  elif opcao == 2:\n",
        "    print('~'*30)\n",
        "    converter_dolar_p_real(valor)\n",
        "    print('~'*30)\n",
        "    opcao = resp()\n",
        "  elif opcao == 3:\n",
        "    print('~'*30)\n",
        "    converter_real_p_btc(valor)\n",
        "    print('~'*30)\n",
        "    opcao = resp()\n",
        "  else: #opcao == 4\n",
        "    print('~'*30)\n",
        "    converter_btc_p_real(valor)\n",
        "    print('~'*30)\n",
        "    opcao = resp()\n",
        "print('FIM')"
      ]
    }
  ]
}